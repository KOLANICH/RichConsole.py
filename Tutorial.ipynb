{
	"nbformat_minor": 0,
	"metadata": {
		"kernelspec": {
			"name": "python3",
			"display_name": "Python 3",
			"language": "python"
		},
		"language_info": {
			"name": "python",
			"codemirror_mode": {
				"name": "ipython",
				"version": 3
			},
			"pygments_lexer": "ipython3",
			"mimetype": "text/x-python",
			"file_extension": ".py",
			"nbconvert_exporter": "python",
			"version": "3.6.1"
		}
	},
	"cells": [
		{
			"metadata": {
				"collapsed": true
			},
			"source": [
				"from RichConsole import *\n",
				"import IPython.display"
			],
			"execution_count": 1,
			"outputs": [],
			"cell_type": "code"
		},
		{
			"metadata": {},
			"source": [
				" RichStr consist of pieces of strings and RichStrs"
			],
			"cell_type": "markdown"
		},
		{
			"metadata": {
				"collapsed": false
			},
			"source": [
				"n=RichStr(\"I am \", \"normal\")"
			],
			"execution_count": 2,
			"outputs": [],
			"cell_type": "code"
		},
		{
			"metadata": {},
			"source": [
				"`__repr__`esentation of a rich string shows a \"flat\" representation of a `RichStr` - a sequence of styles and strings where style applies to everything after it. This is how terminal works. This representation is useful for debugging."
			],
			"cell_type": "markdown"
		},
		{
			"metadata": {
				"collapsed": false
			},
			"source": [
				"n"
			],
			"execution_count": 3,
			"outputs": [
				{
					"data": {
						"text/plain": [
							"RichStr([Sheet({'Back': \u001b[49mBack:reset\u001b[49m, 'Fore': \u001b[39mFore:reset\u001b[39m, 'Blink': \u001b[25mBlink:reset\u001b[25m, 'Style': \u001b[0mStyle:reset\u001b[0m}), 'I am ', Sheet({'Back': \u001b[49mBack:reset\u001b[49m, 'Fore': \u001b[39mFore:reset\u001b[39m, 'Blink': \u001b[25mBlink:reset\u001b[25m, 'Style': \u001b[0mStyle:reset\u001b[0m}), 'normal', Sheet({'Back': \u001b[49mBack:reset\u001b[49m, 'Blink': \u001b[25mBlink:reset\u001b[25m, 'Style': \u001b[0mStyle:reset\u001b[0m, 'Fore': \u001b[39mFore:reset\u001b[39m})])"
						]
					},
					"output_type": "execute_result",
					"metadata": {},
					"execution_count": 3
				}
			],
			"cell_type": "code"
		},
		{
			"metadata": {},
			"source": [
				"To apply a style or a stylesheet you use sheet named argument of RichStr"
			],
			"cell_type": "markdown"
		},
		{
			"metadata": {
				"collapsed": false
			},
			"source": [
				"r=RichStr(\"RED\", sheet=groups[\"Fore\"][\"red\"])"
			],
			"execution_count": 4,
			"outputs": [],
			"cell_type": "code"
		},
		{
			"metadata": {},
			"source": [
				"You can also use dot notation"
			],
			"cell_type": "markdown"
		},
		{
			"metadata": {
				"collapsed": true
			},
			"source": [
				"r=RichStr(\"RED\", sheet=groups.Fore.red)"
			],
			"execution_count": 5,
			"outputs": [],
			"cell_type": "code"
		},
		{
			"metadata": {
				"scrolled": true,
				"collapsed": false
			},
			"source": [
				"str(r)"
			],
			"execution_count": 6,
			"outputs": [
				{
					"data": {
						"text/plain": [
							"'\\x1b[31mRED\\x1b[39m'"
						]
					},
					"output_type": "execute_result",
					"metadata": {},
					"execution_count": 6
				}
			],
			"cell_type": "code"
		},
		{
			"metadata": {
				"collapsed": false
			},
			"source": [
				"`__str__` is overloaded, so you can print. Note that the red is not pure red, it is because here it is indexed, indexed colors depend on terminal palete"
			],
			"cell_type": "markdown"
		},
		{
			"metadata": {
				"scrolled": false,
				"collapsed": false
			},
			"source": [
				"print(r)"
			],
			"execution_count": 7,
			"outputs": [
				{
					"name": "stdout",
					"text": [
						"\u001b[31mRED\u001b[39m\n"
					],
					"output_type": "stream"
				}
			],
			"cell_type": "code"
		},
		{
			"metadata": {},
			"source": [
				"There is a quick and dirty conversion to HTML, but don't use it, it is too unfinished dirty. There are some methods to get CSS rules for some styles."
			],
			"cell_type": "markdown"
		},
		{
			"metadata": {
				"collapsed": false
			},
			"source": [
				"print(r.toHTML())\n",
				"IPython.display.display_html(r.toHTML(), raw=True)"
			],
			"execution_count": 8,
			"outputs": [
				{
					"name": "stdout",
					"text": [
						"<span style='color:#770000'>RED</span>\n"
					],
					"output_type": "stream"
				},
				{
					"data": {
						"text/html": [
							"<span style='color:#770000'>RED</span>"
						]
					},
					"output_type": "display_data",
					"metadata": {}
				}
			],
			"cell_type": "code"
		},
		{
			"metadata": {
				"collapsed": false
			},
			"source": [
				"pureRed=RGBColor(\"PureRed\", 0xFF, bg=True)\n",
				"prs=RichStr(\"Pure red\", sheet=pureRed)\n",
				"print(repr(str(prs)))\n",
				"print(prs)\n"
			],
			"execution_count": 9,
			"outputs": [
				{
					"name": "stdout",
					"text": [
						"'\\x1b[48;2;255;0;0mPure red\\x1b[49m'\n",
						"\u001b[48;2;255;0;0mPure red\u001b[49m\n"
					],
					"output_type": "stream"
				}
			],
			"cell_type": "code"
		},
		{
			"metadata": {},
			"source": [
				"you can create stylesheets from styles"
			],
			"cell_type": "markdown"
		},
		{
			"metadata": {
				"collapsed": false
			},
			"source": [
				"lightGoldenrod1=RGBColor(\"lightGoldenrod1\", 0xff, 0xff, 0x5f, True)\n",
				"blackOnGold=Sheet({\n",
				"\t\"Back\":lightGoldenrod1, # requires 3rd-party libraries\n",
				"\t\"Fore\":groups.Fore.black\n",
				"})\n",
				"\n",
				"g=RichStr(r, \" on GOLD\", sheet=blackOnGold)"
			],
			"execution_count": 10,
			"outputs": [],
			"cell_type": "code"
		},
		{
			"metadata": {
				"collapsed": false
			},
			"source": [
				"str(g)"
			],
			"execution_count": 11,
			"outputs": [
				{
					"data": {
						"text/plain": [
							"'\\x1b[48;2;255;255;95;31mRED\\x1b[30m on GOLD\\x1b[49;39m'"
						]
					},
					"output_type": "execute_result",
					"metadata": {},
					"execution_count": 11
				}
			],
			"cell_type": "code"
		},
		{
			"metadata": {
				"collapsed": false
			},
			"source": [
				"print(g)"
			],
			"execution_count": 12,
			"outputs": [
				{
					"name": "stdout",
					"text": [
						"\u001b[48;2;255;255;95;31mRED\u001b[30m on GOLD\u001b[49;39m\n"
					],
					"output_type": "stream"
				}
			],
			"cell_type": "code"
		},
		{
			"metadata": {
				"collapsed": false
			},
			"source": [
				"print(g.toHTML())"
			],
			"execution_count": 13,
			"outputs": [
				{
					"name": "stdout",
					"text": [
						"<span style='background-color:#ffff5f;color:#000000'><span style='color:#770000'>RED</span> on GOLD</span>\n"
					],
					"output_type": "stream"
				}
			],
			"cell_type": "code"
		},
		{
			"metadata": {
				"collapsed": false
			},
			"source": [
				"IPython.display.display_html(g.toHTML(), raw=True)"
			],
			"execution_count": 14,
			"outputs": [
				{
					"data": {
						"text/html": [
							"<span style='background-color:#ffff5f;color:#000000'><span style='color:#770000'>RED</span> on GOLD</span>"
						]
					},
					"output_type": "display_data",
					"metadata": {}
				}
			],
			"cell_type": "code"
		},
		{
			"metadata": {
				"collapsed": false
			},
			"source": [
				"g.sheetRepr()"
			],
			"execution_count": 15,
			"outputs": [
				{
					"data": {
						"text/plain": [
							"[Sheet({'Back': \u001b[48;2;255;255;95mBack:lightGoldenrod1\u001b[49m, 'Fore': \u001b[31mFore:red\u001b[39m, 'Blink': \u001b[25mBlink:reset\u001b[25m, 'Style': \u001b[0mStyle:reset\u001b[0m}),\n",
							" 'RED',\n",
							" Sheet({'Back': \u001b[48;2;255;255;95mBack:lightGoldenrod1\u001b[49m, 'Blink': \u001b[25mBlink:reset\u001b[25m, 'Fore': \u001b[30mFore:black\u001b[39m, 'Style': \u001b[0mStyle:reset\u001b[0m}),\n",
							" ' on GOLD',\n",
							" Sheet({'Back': \u001b[49mBack:reset\u001b[49m, 'Blink': \u001b[25mBlink:reset\u001b[25m, 'Style': \u001b[0mStyle:reset\u001b[0m, 'Fore': \u001b[39mFore:reset\u001b[39m})]"
						]
					},
					"output_type": "execute_result",
					"metadata": {},
					"execution_count": 15
				}
			],
			"cell_type": "code"
		},
		{
			"metadata": {
				"collapsed": true
			},
			"source": [
				" with `RichStr.optimizedCodeRepr` you can get optimized code sequence in a machine-readable form"
			],
			"cell_type": "markdown"
		},
		{
			"metadata": {
				"collapsed": false
			},
			"source": [
				"g.optimizedCodeRepr()"
			],
			"execution_count": 16,
			"outputs": [
				{
					"data": {
						"text/plain": [
							"[ControlCodes((48, 2, 255, 255, 95, 31)),\n",
							" 'RED',\n",
							" \u001b[30mFore:black\u001b[39m,\n",
							" ' on GOLD',\n",
							" ControlCodes((49, 39))]"
						]
					},
					"output_type": "execute_result",
					"metadata": {},
					"execution_count": 16
				}
			],
			"cell_type": "code"
		}
	],
	"nbformat": 4
}
